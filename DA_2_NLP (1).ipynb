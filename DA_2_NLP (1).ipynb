{
  "nbformat": 4,
  "nbformat_minor": 0,
  "metadata": {
    "colab": {
      "name": "DA 2 NLP.ipynb",
      "provenance": []
    },
    "kernelspec": {
      "name": "python3",
      "display_name": "Python 3"
    },
    "language_info": {
      "name": "python"
    }
  },
  "cells": [
    {
      "cell_type": "code",
      "source": [
        "from nltk.corpus.reader import WordListCorpusReader\n",
        "from google.colab import files\n",
        "uploaded = files.upload()\n",
        "x = WordListCorpusReader(\".\", uploaded)\n",
        "x.words()\n",
        "  \n"
      ],
      "metadata": {
        "colab": {
          "resources": {
            "http://localhost:8080/nbextensions/google.colab/files.js": {
              "data": "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",
              "ok": true,
              "headers": [
                [
                  "content-type",
                  "application/javascript"
                ]
              ],
              "status": 200,
              "status_text": ""
            }
          },
          "base_uri": "https://localhost:8080/",
          "height": 299
        },
        "id": "zdydFqORQplk",
        "outputId": "784f8dea-a758-421f-ff34-e18f5b1b47e2"
      },
      "execution_count": null,
      "outputs": [
        {
          "output_type": "display_data",
          "data": {
            "text/plain": [
              "<IPython.core.display.HTML object>"
            ],
            "text/html": [
              "\n",
              "     <input type=\"file\" id=\"files-15f371a0-b623-4860-bb94-abae42544728\" name=\"files[]\" multiple disabled\n",
              "        style=\"border:none\" />\n",
              "     <output id=\"result-15f371a0-b623-4860-bb94-abae42544728\">\n",
              "      Upload widget is only available when the cell has been executed in the\n",
              "      current browser session. Please rerun this cell to enable.\n",
              "      </output>\n",
              "      <script src=\"/nbextensions/google.colab/files.js\"></script> "
            ]
          },
          "metadata": {}
        },
        {
          "output_type": "stream",
          "name": "stdout",
          "text": [
            "Saving myCorpus.txt to myCorpus (6).txt\n"
          ]
        },
        {
          "output_type": "execute_result",
          "data": {
            "text/plain": [
              "['South Korea, country in East Asia. It occupies the southern portion of the Korean peninsula. The country is bordered by the Democratic People’s Republic of Korea (North Korea) to the north, the East Sea (Sea of Japan) to the east, the East China Sea to the south, and the Yellow Sea to the west; to the southeast it is separated from the Japanese island of Tsushima by the Korea Strait. South Korea makes up about 45 percent of the peninsula’s land area. The capital is Seoul (Sŏul).',\n",
              " 'South Korea faces North Korea across a demilitarized zone (DMZ) 2.5 miles (4 km) wide that was established by the terms of the 1953 armistice that ended fighting in the Korean War (1950–53). The DMZ, which runs for about 150 miles (240 km), constitutes the 1953 military cease-fire line and roughly follows latitude 38° N (the 38th parallel) from the mouth of the Han River on the west coast of the Korean peninsula to a little south of the North Korean town of Kosŏng on the east coast.',\n",
              " 'All Koreans speak the Korean language, which is often classified as one of the Altaic languages, has affinities to Japanese, and contains many Chinese loanwords. The Korean script, known in South Korea as Hangul (Han’gŭl) and in North Korea as Chosŏn muntcha, is composed of phonetic symbols for the 10 vowels and 14 consonants. Korean often is written as a combination of Chinese ideograms and Hangul in South Korea, although the trend is toward using less Chinese. A large number of English words and phrases have crept into the language—either intact or modified by local usage—as a result of the American presence in the country since 1950.']"
            ]
          },
          "metadata": {},
          "execution_count": 39
        }
      ]
    },
    {
      "cell_type": "code",
      "source": [
        ""
      ],
      "metadata": {
        "id": "sVw8MNYsR39Z"
      },
      "execution_count": null,
      "outputs": []
    },
    {
      "cell_type": "markdown",
      "source": [
        "## Word Segmentation"
      ],
      "metadata": {
        "id": "dd5v26k0JlSC"
      }
    },
    {
      "cell_type": "code",
      "source": [
        "import nltk\n",
        "#nltk.download('punkt')\n",
        "from nltk.tokenize import word_tokenize\n",
        "#text = \"God is Great! I won a lottery.\"\n",
        "print(word_tokenize(x.raw()))"
      ],
      "metadata": {
        "colab": {
          "base_uri": "https://localhost:8080/"
        },
        "id": "FUPdkSRGJqzg",
        "outputId": "e880bd06-d46f-4c32-f0d4-607be7f18962"
      },
      "execution_count": null,
      "outputs": [
        {
          "output_type": "stream",
          "name": "stdout",
          "text": [
            "['South', 'Korea', ',', 'country', 'in', 'East', 'Asia', '.', 'It', 'occupies', 'the', 'southern', 'portion', 'of', 'the', 'Korean', 'peninsula', '.', 'The', 'country', 'is', 'bordered', 'by', 'the', 'Democratic', 'People', '’', 's', 'Republic', 'of', 'Korea', '(', 'North', 'Korea', ')', 'to', 'the', 'north', ',', 'the', 'East', 'Sea', '(', 'Sea', 'of', 'Japan', ')', 'to', 'the', 'east', ',', 'the', 'East', 'China', 'Sea', 'to', 'the', 'south', ',', 'and', 'the', 'Yellow', 'Sea', 'to', 'the', 'west', ';', 'to', 'the', 'southeast', 'it', 'is', 'separated', 'from', 'the', 'Japanese', 'island', 'of', 'Tsushima', 'by', 'the', 'Korea', 'Strait', '.', 'South', 'Korea', 'makes', 'up', 'about', '45', 'percent', 'of', 'the', 'peninsula', '’', 's', 'land', 'area', '.', 'The', 'capital', 'is', 'Seoul', '(', 'Sŏul', ')', '.', 'South', 'Korea', 'faces', 'North', 'Korea', 'across', 'a', 'demilitarized', 'zone', '(', 'DMZ', ')', '2.5', 'miles', '(', '4', 'km', ')', 'wide', 'that', 'was', 'established', 'by', 'the', 'terms', 'of', 'the', '1953', 'armistice', 'that', 'ended', 'fighting', 'in', 'the', 'Korean', 'War', '(', '1950–53', ')', '.', 'The', 'DMZ', ',', 'which', 'runs', 'for', 'about', '150', 'miles', '(', '240', 'km', ')', ',', 'constitutes', 'the', '1953', 'military', 'cease-fire', 'line', 'and', 'roughly', 'follows', 'latitude', '38°', 'N', '(', 'the', '38th', 'parallel', ')', 'from', 'the', 'mouth', 'of', 'the', 'Han', 'River', 'on', 'the', 'west', 'coast', 'of', 'the', 'Korean', 'peninsula', 'to', 'a', 'little', 'south', 'of', 'the', 'North', 'Korean', 'town', 'of', 'Kosŏng', 'on', 'the', 'east', 'coast', '.', 'All', 'Koreans', 'speak', 'the', 'Korean', 'language', ',', 'which', 'is', 'often', 'classified', 'as', 'one', 'of', 'the', 'Altaic', 'languages', ',', 'has', 'affinities', 'to', 'Japanese', ',', 'and', 'contains', 'many', 'Chinese', 'loanwords', '.', 'The', 'Korean', 'script', ',', 'known', 'in', 'South', 'Korea', 'as', 'Hangul', '(', 'Han', '’', 'gŭl', ')', 'and', 'in', 'North', 'Korea', 'as', 'Chosŏn', 'muntcha', ',', 'is', 'composed', 'of', 'phonetic', 'symbols', 'for', 'the', '10', 'vowels', 'and', '14', 'consonants', '.', 'Korean', 'often', 'is', 'written', 'as', 'a', 'combination', 'of', 'Chinese', 'ideograms', 'and', 'Hangul', 'in', 'South', 'Korea', ',', 'although', 'the', 'trend', 'is', 'toward', 'using', 'less', 'Chinese', '.', 'A', 'large', 'number', 'of', 'English', 'words', 'and', 'phrases', 'have', 'crept', 'into', 'the', 'language—either', 'intact', 'or', 'modified', 'by', 'local', 'usage—as', 'a', 'result', 'of', 'the', 'American', 'presence', 'in', 'the', 'country', 'since', '1950', '.']\n"
          ]
        }
      ]
    },
    {
      "cell_type": "markdown",
      "source": [
        "## Stemming"
      ],
      "metadata": {
        "id": "7fXDavQkKR8g"
      }
    },
    {
      "cell_type": "code",
      "source": [
        "# import these modules\n",
        "from nltk.stem import PorterStemmer\n",
        "from nltk.tokenize import word_tokenize\n",
        "\n",
        "ps = PorterStemmer()\n",
        "\n",
        "# choose some words to be stemmed\n",
        "#words = [\"program\", \"programs\", \"programmer\", \"programming\", \"programmers\"]\n",
        "k=word_tokenize(x.raw())\n",
        "for w in k:\n",
        "\tprint(w, \" : \", ps.stem(w))\n"
      ],
      "metadata": {
        "colab": {
          "base_uri": "https://localhost:8080/"
        },
        "id": "28NrHkmeKWHY",
        "outputId": "ddc6aa1b-5d61-4e80-9baa-723b4e81845f"
      },
      "execution_count": null,
      "outputs": [
        {
          "output_type": "stream",
          "name": "stdout",
          "text": [
            "South  :  south\n",
            "Korea  :  korea\n",
            ",  :  ,\n",
            "country  :  countri\n",
            "in  :  in\n",
            "East  :  east\n",
            "Asia  :  asia\n",
            ".  :  .\n",
            "It  :  it\n",
            "occupies  :  occupi\n",
            "the  :  the\n",
            "southern  :  southern\n",
            "portion  :  portion\n",
            "of  :  of\n",
            "the  :  the\n",
            "Korean  :  korean\n",
            "peninsula  :  peninsula\n",
            ".  :  .\n",
            "The  :  the\n",
            "country  :  countri\n",
            "is  :  is\n",
            "bordered  :  border\n",
            "by  :  by\n",
            "the  :  the\n",
            "Democratic  :  democrat\n",
            "People  :  peopl\n",
            "’  :  ’\n",
            "s  :  s\n",
            "Republic  :  republ\n",
            "of  :  of\n",
            "Korea  :  korea\n",
            "(  :  (\n",
            "North  :  north\n",
            "Korea  :  korea\n",
            ")  :  )\n",
            "to  :  to\n",
            "the  :  the\n",
            "north  :  north\n",
            ",  :  ,\n",
            "the  :  the\n",
            "East  :  east\n",
            "Sea  :  sea\n",
            "(  :  (\n",
            "Sea  :  sea\n",
            "of  :  of\n",
            "Japan  :  japan\n",
            ")  :  )\n",
            "to  :  to\n",
            "the  :  the\n",
            "east  :  east\n",
            ",  :  ,\n",
            "the  :  the\n",
            "East  :  east\n",
            "China  :  china\n",
            "Sea  :  sea\n",
            "to  :  to\n",
            "the  :  the\n",
            "south  :  south\n",
            ",  :  ,\n",
            "and  :  and\n",
            "the  :  the\n",
            "Yellow  :  yellow\n",
            "Sea  :  sea\n",
            "to  :  to\n",
            "the  :  the\n",
            "west  :  west\n",
            ";  :  ;\n",
            "to  :  to\n",
            "the  :  the\n",
            "southeast  :  southeast\n",
            "it  :  it\n",
            "is  :  is\n",
            "separated  :  separ\n",
            "from  :  from\n",
            "the  :  the\n",
            "Japanese  :  japanes\n",
            "island  :  island\n",
            "of  :  of\n",
            "Tsushima  :  tsushima\n",
            "by  :  by\n",
            "the  :  the\n",
            "Korea  :  korea\n",
            "Strait  :  strait\n",
            ".  :  .\n",
            "South  :  south\n",
            "Korea  :  korea\n",
            "makes  :  make\n",
            "up  :  up\n",
            "about  :  about\n",
            "45  :  45\n",
            "percent  :  percent\n",
            "of  :  of\n",
            "the  :  the\n",
            "peninsula  :  peninsula\n",
            "’  :  ’\n",
            "s  :  s\n",
            "land  :  land\n",
            "area  :  area\n",
            ".  :  .\n",
            "The  :  the\n",
            "capital  :  capit\n",
            "is  :  is\n",
            "Seoul  :  seoul\n",
            "(  :  (\n",
            "Sŏul  :  sŏul\n",
            ")  :  )\n",
            ".  :  .\n",
            "South  :  south\n",
            "Korea  :  korea\n",
            "faces  :  face\n",
            "North  :  north\n",
            "Korea  :  korea\n",
            "across  :  across\n",
            "a  :  a\n",
            "demilitarized  :  demilitar\n",
            "zone  :  zone\n",
            "(  :  (\n",
            "DMZ  :  dmz\n",
            ")  :  )\n",
            "2.5  :  2.5\n",
            "miles  :  mile\n",
            "(  :  (\n",
            "4  :  4\n",
            "km  :  km\n",
            ")  :  )\n",
            "wide  :  wide\n",
            "that  :  that\n",
            "was  :  wa\n",
            "established  :  establish\n",
            "by  :  by\n",
            "the  :  the\n",
            "terms  :  term\n",
            "of  :  of\n",
            "the  :  the\n",
            "1953  :  1953\n",
            "armistice  :  armistic\n",
            "that  :  that\n",
            "ended  :  end\n",
            "fighting  :  fight\n",
            "in  :  in\n",
            "the  :  the\n",
            "Korean  :  korean\n",
            "War  :  war\n",
            "(  :  (\n",
            "1950–53  :  1950–53\n",
            ")  :  )\n",
            ".  :  .\n",
            "The  :  the\n",
            "DMZ  :  dmz\n",
            ",  :  ,\n",
            "which  :  which\n",
            "runs  :  run\n",
            "for  :  for\n",
            "about  :  about\n",
            "150  :  150\n",
            "miles  :  mile\n",
            "(  :  (\n",
            "240  :  240\n",
            "km  :  km\n",
            ")  :  )\n",
            ",  :  ,\n",
            "constitutes  :  constitut\n",
            "the  :  the\n",
            "1953  :  1953\n",
            "military  :  militari\n",
            "cease-fire  :  cease-fir\n",
            "line  :  line\n",
            "and  :  and\n",
            "roughly  :  roughli\n",
            "follows  :  follow\n",
            "latitude  :  latitud\n",
            "38°  :  38°\n",
            "N  :  n\n",
            "(  :  (\n",
            "the  :  the\n",
            "38th  :  38th\n",
            "parallel  :  parallel\n",
            ")  :  )\n",
            "from  :  from\n",
            "the  :  the\n",
            "mouth  :  mouth\n",
            "of  :  of\n",
            "the  :  the\n",
            "Han  :  han\n",
            "River  :  river\n",
            "on  :  on\n",
            "the  :  the\n",
            "west  :  west\n",
            "coast  :  coast\n",
            "of  :  of\n",
            "the  :  the\n",
            "Korean  :  korean\n",
            "peninsula  :  peninsula\n",
            "to  :  to\n",
            "a  :  a\n",
            "little  :  littl\n",
            "south  :  south\n",
            "of  :  of\n",
            "the  :  the\n",
            "North  :  north\n",
            "Korean  :  korean\n",
            "town  :  town\n",
            "of  :  of\n",
            "Kosŏng  :  kosŏng\n",
            "on  :  on\n",
            "the  :  the\n",
            "east  :  east\n",
            "coast  :  coast\n",
            ".  :  .\n",
            "All  :  all\n",
            "Koreans  :  korean\n",
            "speak  :  speak\n",
            "the  :  the\n",
            "Korean  :  korean\n",
            "language  :  languag\n",
            ",  :  ,\n",
            "which  :  which\n",
            "is  :  is\n",
            "often  :  often\n",
            "classified  :  classifi\n",
            "as  :  as\n",
            "one  :  one\n",
            "of  :  of\n",
            "the  :  the\n",
            "Altaic  :  altaic\n",
            "languages  :  languag\n",
            ",  :  ,\n",
            "has  :  ha\n",
            "affinities  :  affin\n",
            "to  :  to\n",
            "Japanese  :  japanes\n",
            ",  :  ,\n",
            "and  :  and\n",
            "contains  :  contain\n",
            "many  :  mani\n",
            "Chinese  :  chines\n",
            "loanwords  :  loanword\n",
            ".  :  .\n",
            "The  :  the\n",
            "Korean  :  korean\n",
            "script  :  script\n",
            ",  :  ,\n",
            "known  :  known\n",
            "in  :  in\n",
            "South  :  south\n",
            "Korea  :  korea\n",
            "as  :  as\n",
            "Hangul  :  hangul\n",
            "(  :  (\n",
            "Han  :  han\n",
            "’  :  ’\n",
            "gŭl  :  gŭl\n",
            ")  :  )\n",
            "and  :  and\n",
            "in  :  in\n",
            "North  :  north\n",
            "Korea  :  korea\n",
            "as  :  as\n",
            "Chosŏn  :  chosŏn\n",
            "muntcha  :  muntcha\n",
            ",  :  ,\n",
            "is  :  is\n",
            "composed  :  compos\n",
            "of  :  of\n",
            "phonetic  :  phonet\n",
            "symbols  :  symbol\n",
            "for  :  for\n",
            "the  :  the\n",
            "10  :  10\n",
            "vowels  :  vowel\n",
            "and  :  and\n",
            "14  :  14\n",
            "consonants  :  conson\n",
            ".  :  .\n",
            "Korean  :  korean\n",
            "often  :  often\n",
            "is  :  is\n",
            "written  :  written\n",
            "as  :  as\n",
            "a  :  a\n",
            "combination  :  combin\n",
            "of  :  of\n",
            "Chinese  :  chines\n",
            "ideograms  :  ideogram\n",
            "and  :  and\n",
            "Hangul  :  hangul\n",
            "in  :  in\n",
            "South  :  south\n",
            "Korea  :  korea\n",
            ",  :  ,\n",
            "although  :  although\n",
            "the  :  the\n",
            "trend  :  trend\n",
            "is  :  is\n",
            "toward  :  toward\n",
            "using  :  use\n",
            "less  :  less\n",
            "Chinese  :  chines\n",
            ".  :  .\n",
            "A  :  a\n",
            "large  :  larg\n",
            "number  :  number\n",
            "of  :  of\n",
            "English  :  english\n",
            "words  :  word\n",
            "and  :  and\n",
            "phrases  :  phrase\n",
            "have  :  have\n",
            "crept  :  crept\n",
            "into  :  into\n",
            "the  :  the\n",
            "language—either  :  language—eith\n",
            "intact  :  intact\n",
            "or  :  or\n",
            "modified  :  modifi\n",
            "by  :  by\n",
            "local  :  local\n",
            "usage—as  :  usage—a\n",
            "a  :  a\n",
            "result  :  result\n",
            "of  :  of\n",
            "the  :  the\n",
            "American  :  american\n",
            "presence  :  presenc\n",
            "in  :  in\n",
            "the  :  the\n",
            "country  :  countri\n",
            "since  :  sinc\n",
            "1950  :  1950\n",
            ".  :  .\n"
          ]
        }
      ]
    },
    {
      "cell_type": "markdown",
      "source": [
        "## POS Tagging"
      ],
      "metadata": {
        "id": "IgwtzJ0FKg-n"
      }
    },
    {
      "cell_type": "code",
      "source": [
        "import nltk\n",
        "#nltk.download('stopwords')\n",
        "#nltk.download('averaged_perceptron_tagger')\n",
        "from nltk.corpus import stopwords\n",
        "from nltk.tokenize import word_tokenize, sent_tokenize\n",
        "stop_words = set(stopwords.words('english'))\n",
        "\n",
        "\n",
        "#txt = \"\"\"My Name is James Bond\"\"\"\n",
        "\n",
        "# sent_tokenize is one of instances of\n",
        "# PunktSentenceTokenizer from the nltk.tokenize.punkt module\n",
        "\n",
        "tokenized = sent_tokenize(x.raw())\n",
        "for i in tokenized:\n",
        "\t\n",
        "\t# Word tokenizers is used to find the words\n",
        "\t# and punctuation in a string\n",
        "\twordsList = nltk.word_tokenize(i)\n",
        "\n",
        "\t# removing stop words from wordList\n",
        "\twordsList = [w for w in wordsList if not w in stop_words]\n",
        "\n",
        "\t# Using a Tagger. Which is part-of-speech\n",
        "\t# tagger or POS-tagger.\n",
        "\ttagged = nltk.pos_tag(wordsList)\n",
        "\n",
        "\tprint(tagged)\n"
      ],
      "metadata": {
        "colab": {
          "base_uri": "https://localhost:8080/"
        },
        "id": "76zA6QcaKwk8",
        "outputId": "3e962335-d7b3-455c-a153-e147633d34ac"
      },
      "execution_count": null,
      "outputs": [
        {
          "output_type": "stream",
          "name": "stdout",
          "text": [
            "[('South', 'NNP'), ('Korea', 'NNP'), (',', ','), ('country', 'NN'), ('East', 'NNP'), ('Asia', 'NNP'), ('.', '.')]\n",
            "[('It', 'PRP'), ('occupies', 'VBZ'), ('southern', 'JJ'), ('portion', 'NN'), ('Korean', 'NNP'), ('peninsula', 'NN'), ('.', '.')]\n",
            "[('The', 'DT'), ('country', 'NN'), ('bordered', 'VBD'), ('Democratic', 'JJ'), ('People', 'NNP'), ('’', 'NNP'), ('Republic', 'NNP'), ('Korea', 'NNP'), ('(', '('), ('North', 'NNP'), ('Korea', 'NNP'), (')', ')'), ('north', 'NN'), (',', ','), ('East', 'NNP'), ('Sea', 'NNP'), ('(', '('), ('Sea', 'NNP'), ('Japan', 'NNP'), (')', ')'), ('east', 'VBP'), (',', ','), ('East', 'NNP'), ('China', 'NNP'), ('Sea', 'NNP'), ('south', 'NN'), (',', ','), ('Yellow', 'NNP'), ('Sea', 'NNP'), ('west', 'JJS'), (';', ':'), ('southeast', 'JJ'), ('separated', 'JJ'), ('Japanese', 'JJ'), ('island', 'NN'), ('Tsushima', 'NNP'), ('Korea', 'NNP'), ('Strait', 'NNP'), ('.', '.')]\n",
            "[('South', 'NNP'), ('Korea', 'NNP'), ('makes', 'VBZ'), ('45', 'CD'), ('percent', 'NN'), ('peninsula', 'NN'), ('’', 'NNP'), ('land', 'NN'), ('area', 'NN'), ('.', '.')]\n",
            "[('The', 'DT'), ('capital', 'NN'), ('Seoul', 'NNP'), ('(', '('), ('Sŏul', 'NNP'), (')', ')'), ('.', '.')]\n",
            "[('South', 'NNP'), ('Korea', 'NNP'), ('faces', 'VBZ'), ('North', 'NNP'), ('Korea', 'NNP'), ('across', 'IN'), ('demilitarized', 'VBN'), ('zone', 'NN'), ('(', '('), ('DMZ', 'NNP'), (')', ')'), ('2.5', 'CD'), ('miles', 'NNS'), ('(', '('), ('4', 'CD'), ('km', 'NN'), (')', ')'), ('wide', 'JJ'), ('established', 'VBN'), ('terms', 'NNS'), ('1953', 'CD'), ('armistice', 'NN'), ('ended', 'VBD'), ('fighting', 'JJ'), ('Korean', 'JJ'), ('War', 'NNP'), ('(', '('), ('1950–53', 'CD'), (')', ')'), ('.', '.')]\n",
            "[('The', 'DT'), ('DMZ', 'NNP'), (',', ','), ('runs', 'VBZ'), ('150', 'CD'), ('miles', 'NNS'), ('(', '('), ('240', 'CD'), ('km', 'NN'), (')', ')'), (',', ','), ('constitutes', 'VBZ'), ('1953', 'CD'), ('military', 'JJ'), ('cease-fire', 'NN'), ('line', 'NN'), ('roughly', 'RB'), ('follows', 'VBZ'), ('latitude', 'VBP'), ('38°', 'CD'), ('N', 'NNP'), ('(', '('), ('38th', 'CD'), ('parallel', 'NN'), (')', ')'), ('mouth', 'NN'), ('Han', 'NNP'), ('River', 'NNP'), ('west', 'JJS'), ('coast', 'JJ'), ('Korean', 'JJ'), ('peninsula', 'NN'), ('little', 'JJ'), ('south', 'JJ'), ('North', 'JJ'), ('Korean', 'JJ'), ('town', 'NN'), ('Kosŏng', 'NNP'), ('east', 'VBD'), ('coast', 'NN'), ('.', '.')]\n",
            "[('All', 'DT'), ('Koreans', 'NNP'), ('speak', 'JJ'), ('Korean', 'JJ'), ('language', 'NN'), (',', ','), ('often', 'RB'), ('classified', 'VBD'), ('one', 'CD'), ('Altaic', 'NNP'), ('languages', 'VBZ'), (',', ','), ('affinities', 'VBZ'), ('Japanese', 'NNP'), (',', ','), ('contains', 'VBZ'), ('many', 'JJ'), ('Chinese', 'JJ'), ('loanwords', 'NNS'), ('.', '.')]\n",
            "[('The', 'DT'), ('Korean', 'JJ'), ('script', 'NN'), (',', ','), ('known', 'VBN'), ('South', 'NNP'), ('Korea', 'NNP'), ('Hangul', 'NNP'), ('(', '('), ('Han', 'NNP'), ('’', 'NNP'), ('gŭl', 'NN'), (')', ')'), ('North', 'NNP'), ('Korea', 'NNP'), ('Chosŏn', 'NNP'), ('muntcha', 'NN'), (',', ','), ('composed', 'VBN'), ('phonetic', 'JJ'), ('symbols', 'NNS'), ('10', 'CD'), ('vowels', 'NNS'), ('14', 'CD'), ('consonants', 'NNS'), ('.', '.')]\n",
            "[('Korean', 'JJ'), ('often', 'RB'), ('written', 'VBN'), ('combination', 'NN'), ('Chinese', 'NNP'), ('ideograms', 'VBZ'), ('Hangul', 'NNP'), ('South', 'NNP'), ('Korea', 'NNP'), (',', ','), ('although', 'IN'), ('trend', 'NN'), ('toward', 'IN'), ('using', 'VBG'), ('less', 'JJR'), ('Chinese', 'JJ'), ('.', '.')]\n",
            "[('A', 'DT'), ('large', 'JJ'), ('number', 'NN'), ('English', 'NNP'), ('words', 'NNS'), ('phrases', 'VBZ'), ('crept', 'VBP'), ('language—either', 'JJR'), ('intact', 'JJ'), ('modified', 'VBD'), ('local', 'JJ'), ('usage—as', 'JJ'), ('result', 'NN'), ('American', 'JJ'), ('presence', 'NN'), ('country', 'NN'), ('since', 'IN'), ('1950', 'CD'), ('.', '.')]\n"
          ]
        }
      ]
    },
    {
      "cell_type": "markdown",
      "source": [
        "## Lemmatization"
      ],
      "metadata": {
        "id": "IO5HK_ToLa2c"
      }
    },
    {
      "cell_type": "code",
      "source": [
        "#nltk.download('wordnet')\n",
        "#nltk.download('omw-1.4')\n",
        "# import these modules\n",
        "from nltk.stem import WordNetLemmatizer\n",
        "\n",
        "lemmatizer = WordNetLemmatizer()\n",
        "\n",
        "print(\"rocks :\", lemmatizer.lemmatize(\"rocks\"))\n",
        "print(\"corpora :\", lemmatizer.lemmatize(\"corpora\"))\n",
        "\n",
        "# a denotes adjective in \"pos\"\n",
        "print(\"better :\", lemmatizer.lemmatize(\"better\", pos =\"a\"))\n"
      ],
      "metadata": {
        "colab": {
          "base_uri": "https://localhost:8080/"
        },
        "id": "FNJOG0VyK3gh",
        "outputId": "66f98d07-afb5-4179-b2b4-d48645673066"
      },
      "execution_count": null,
      "outputs": [
        {
          "output_type": "stream",
          "name": "stdout",
          "text": [
            "rocks : rock\n",
            "corpora : corpus\n",
            "better : good\n"
          ]
        }
      ]
    },
    {
      "cell_type": "markdown",
      "source": [
        "## Stop Words Removal"
      ],
      "metadata": {
        "id": "2Ca5Wo_FMv8i"
      }
    },
    {
      "cell_type": "code",
      "source": [
        "from nltk.corpus import stopwords\n",
        "from nltk.tokenize import word_tokenize\n",
        "\n",
        "#example_sent = \"\"\"This is a sample sentence,\n",
        "#\t\t\t\tshowing off the stop words filtration.\"\"\"\n",
        "\n",
        "example_sent=x.raw();\n",
        "\n",
        "stop_words = set(stopwords.words('english'))\n",
        "\n",
        "word_tokens = word_tokenize(example_sent)\n",
        "\n",
        "filtered_sentence = [w for w in word_tokens if not w.lower() in stop_words]\n",
        "\n",
        "filtered_sentence = []\n",
        "\n",
        "for w in word_tokens:\n",
        "\tif w not in stop_words:\n",
        "\t\tfiltered_sentence.append(w)\n",
        "\n",
        "print(word_tokens)\n",
        "print(filtered_sentence)\n"
      ],
      "metadata": {
        "colab": {
          "base_uri": "https://localhost:8080/"
        },
        "id": "NQiwswf0MyrG",
        "outputId": "6196271d-3bb2-4891-fdf8-e9b60a5b378a"
      },
      "execution_count": null,
      "outputs": [
        {
          "output_type": "stream",
          "name": "stdout",
          "text": [
            "['South', 'Korea', ',', 'country', 'in', 'East', 'Asia', '.', 'It', 'occupies', 'the', 'southern', 'portion', 'of', 'the', 'Korean', 'peninsula', '.', 'The', 'country', 'is', 'bordered', 'by', 'the', 'Democratic', 'People', '’', 's', 'Republic', 'of', 'Korea', '(', 'North', 'Korea', ')', 'to', 'the', 'north', ',', 'the', 'East', 'Sea', '(', 'Sea', 'of', 'Japan', ')', 'to', 'the', 'east', ',', 'the', 'East', 'China', 'Sea', 'to', 'the', 'south', ',', 'and', 'the', 'Yellow', 'Sea', 'to', 'the', 'west', ';', 'to', 'the', 'southeast', 'it', 'is', 'separated', 'from', 'the', 'Japanese', 'island', 'of', 'Tsushima', 'by', 'the', 'Korea', 'Strait', '.', 'South', 'Korea', 'makes', 'up', 'about', '45', 'percent', 'of', 'the', 'peninsula', '’', 's', 'land', 'area', '.', 'The', 'capital', 'is', 'Seoul', '(', 'Sŏul', ')', '.', 'South', 'Korea', 'faces', 'North', 'Korea', 'across', 'a', 'demilitarized', 'zone', '(', 'DMZ', ')', '2.5', 'miles', '(', '4', 'km', ')', 'wide', 'that', 'was', 'established', 'by', 'the', 'terms', 'of', 'the', '1953', 'armistice', 'that', 'ended', 'fighting', 'in', 'the', 'Korean', 'War', '(', '1950–53', ')', '.', 'The', 'DMZ', ',', 'which', 'runs', 'for', 'about', '150', 'miles', '(', '240', 'km', ')', ',', 'constitutes', 'the', '1953', 'military', 'cease-fire', 'line', 'and', 'roughly', 'follows', 'latitude', '38°', 'N', '(', 'the', '38th', 'parallel', ')', 'from', 'the', 'mouth', 'of', 'the', 'Han', 'River', 'on', 'the', 'west', 'coast', 'of', 'the', 'Korean', 'peninsula', 'to', 'a', 'little', 'south', 'of', 'the', 'North', 'Korean', 'town', 'of', 'Kosŏng', 'on', 'the', 'east', 'coast', '.', 'All', 'Koreans', 'speak', 'the', 'Korean', 'language', ',', 'which', 'is', 'often', 'classified', 'as', 'one', 'of', 'the', 'Altaic', 'languages', ',', 'has', 'affinities', 'to', 'Japanese', ',', 'and', 'contains', 'many', 'Chinese', 'loanwords', '.', 'The', 'Korean', 'script', ',', 'known', 'in', 'South', 'Korea', 'as', 'Hangul', '(', 'Han', '’', 'gŭl', ')', 'and', 'in', 'North', 'Korea', 'as', 'Chosŏn', 'muntcha', ',', 'is', 'composed', 'of', 'phonetic', 'symbols', 'for', 'the', '10', 'vowels', 'and', '14', 'consonants', '.', 'Korean', 'often', 'is', 'written', 'as', 'a', 'combination', 'of', 'Chinese', 'ideograms', 'and', 'Hangul', 'in', 'South', 'Korea', ',', 'although', 'the', 'trend', 'is', 'toward', 'using', 'less', 'Chinese', '.', 'A', 'large', 'number', 'of', 'English', 'words', 'and', 'phrases', 'have', 'crept', 'into', 'the', 'language—either', 'intact', 'or', 'modified', 'by', 'local', 'usage—as', 'a', 'result', 'of', 'the', 'American', 'presence', 'in', 'the', 'country', 'since', '1950', '.']\n",
            "['South', 'Korea', ',', 'country', 'East', 'Asia', '.', 'It', 'occupies', 'southern', 'portion', 'Korean', 'peninsula', '.', 'The', 'country', 'bordered', 'Democratic', 'People', '’', 'Republic', 'Korea', '(', 'North', 'Korea', ')', 'north', ',', 'East', 'Sea', '(', 'Sea', 'Japan', ')', 'east', ',', 'East', 'China', 'Sea', 'south', ',', 'Yellow', 'Sea', 'west', ';', 'southeast', 'separated', 'Japanese', 'island', 'Tsushima', 'Korea', 'Strait', '.', 'South', 'Korea', 'makes', '45', 'percent', 'peninsula', '’', 'land', 'area', '.', 'The', 'capital', 'Seoul', '(', 'Sŏul', ')', '.', 'South', 'Korea', 'faces', 'North', 'Korea', 'across', 'demilitarized', 'zone', '(', 'DMZ', ')', '2.5', 'miles', '(', '4', 'km', ')', 'wide', 'established', 'terms', '1953', 'armistice', 'ended', 'fighting', 'Korean', 'War', '(', '1950–53', ')', '.', 'The', 'DMZ', ',', 'runs', '150', 'miles', '(', '240', 'km', ')', ',', 'constitutes', '1953', 'military', 'cease-fire', 'line', 'roughly', 'follows', 'latitude', '38°', 'N', '(', '38th', 'parallel', ')', 'mouth', 'Han', 'River', 'west', 'coast', 'Korean', 'peninsula', 'little', 'south', 'North', 'Korean', 'town', 'Kosŏng', 'east', 'coast', '.', 'All', 'Koreans', 'speak', 'Korean', 'language', ',', 'often', 'classified', 'one', 'Altaic', 'languages', ',', 'affinities', 'Japanese', ',', 'contains', 'many', 'Chinese', 'loanwords', '.', 'The', 'Korean', 'script', ',', 'known', 'South', 'Korea', 'Hangul', '(', 'Han', '’', 'gŭl', ')', 'North', 'Korea', 'Chosŏn', 'muntcha', ',', 'composed', 'phonetic', 'symbols', '10', 'vowels', '14', 'consonants', '.', 'Korean', 'often', 'written', 'combination', 'Chinese', 'ideograms', 'Hangul', 'South', 'Korea', ',', 'although', 'trend', 'toward', 'using', 'less', 'Chinese', '.', 'A', 'large', 'number', 'English', 'words', 'phrases', 'crept', 'language—either', 'intact', 'modified', 'local', 'usage—as', 'result', 'American', 'presence', 'country', 'since', '1950', '.']\n"
          ]
        }
      ]
    },
    {
      "cell_type": "markdown",
      "source": [
        "## Convert To Lowercase"
      ],
      "metadata": {
        "id": "lrMxHsBzM1Yp"
      }
    },
    {
      "cell_type": "code",
      "source": [
        "#text=\"HELLo bOY!!\"\n",
        "text=x.raw()\n",
        "print(text.lower())"
      ],
      "metadata": {
        "colab": {
          "base_uri": "https://localhost:8080/"
        },
        "id": "rYG7bGGLNAQS",
        "outputId": "c056aec5-5384-4744-f378-5b8cfed04866"
      },
      "execution_count": null,
      "outputs": [
        {
          "output_type": "stream",
          "name": "stdout",
          "text": [
            "south korea, country in east asia. it occupies the southern portion of the korean peninsula. the country is bordered by the democratic people’s republic of korea (north korea) to the north, the east sea (sea of japan) to the east, the east china sea to the south, and the yellow sea to the west; to the southeast it is separated from the japanese island of tsushima by the korea strait. south korea makes up about 45 percent of the peninsula’s land area. the capital is seoul (sŏul).\r\n",
            "\r\n",
            "south korea faces north korea across a demilitarized zone (dmz) 2.5 miles (4 km) wide that was established by the terms of the 1953 armistice that ended fighting in the korean war (1950–53). the dmz, which runs for about 150 miles (240 km), constitutes the 1953 military cease-fire line and roughly follows latitude 38° n (the 38th parallel) from the mouth of the han river on the west coast of the korean peninsula to a little south of the north korean town of kosŏng on the east coast.\r\n",
            "\r\n",
            "all koreans speak the korean language, which is often classified as one of the altaic languages, has affinities to japanese, and contains many chinese loanwords. the korean script, known in south korea as hangul (han’gŭl) and in north korea as chosŏn muntcha, is composed of phonetic symbols for the 10 vowels and 14 consonants. korean often is written as a combination of chinese ideograms and hangul in south korea, although the trend is toward using less chinese. a large number of english words and phrases have crept into the language—either intact or modified by local usage—as a result of the american presence in the country since 1950.\n"
          ]
        }
      ]
    },
    {
      "cell_type": "markdown",
      "source": [
        "## Sentence Segmentation"
      ],
      "metadata": {
        "id": "e_2LkNV1Ngsx"
      }
    },
    {
      "cell_type": "code",
      "source": [
        "from nltk.tokenize import sent_tokenize\n",
        "#text = \"God is Great! I won a lottery.\"\n",
        "text=x.raw()\n",
        "print(sent_tokenize(text))\n",
        "\n"
      ],
      "metadata": {
        "colab": {
          "base_uri": "https://localhost:8080/"
        },
        "id": "EUC65487Niqs",
        "outputId": "d421d29f-6401-44d0-98ec-11f2a44b2e60"
      },
      "execution_count": null,
      "outputs": [
        {
          "output_type": "stream",
          "name": "stdout",
          "text": [
            "['South Korea, country in East Asia.', 'It occupies the southern portion of the Korean peninsula.', 'The country is bordered by the Democratic People’s Republic of Korea (North Korea) to the north, the East Sea (Sea of Japan) to the east, the East China Sea to the south, and the Yellow Sea to the west; to the southeast it is separated from the Japanese island of Tsushima by the Korea Strait.', 'South Korea makes up about 45 percent of the peninsula’s land area.', 'The capital is Seoul (Sŏul).', 'South Korea faces North Korea across a demilitarized zone (DMZ) 2.5 miles (4 km) wide that was established by the terms of the 1953 armistice that ended fighting in the Korean War (1950–53).', 'The DMZ, which runs for about 150 miles (240 km), constitutes the 1953 military cease-fire line and roughly follows latitude 38° N (the 38th parallel) from the mouth of the Han River on the west coast of the Korean peninsula to a little south of the North Korean town of Kosŏng on the east coast.', 'All Koreans speak the Korean language, which is often classified as one of the Altaic languages, has affinities to Japanese, and contains many Chinese loanwords.', 'The Korean script, known in South Korea as Hangul (Han’gŭl) and in North Korea as Chosŏn muntcha, is composed of phonetic symbols for the 10 vowels and 14 consonants.', 'Korean often is written as a combination of Chinese ideograms and Hangul in South Korea, although the trend is toward using less Chinese.', 'A large number of English words and phrases have crept into the language—either intact or modified by local usage—as a result of the American presence in the country since 1950.']\n"
          ]
        }
      ]
    }
  ]
}